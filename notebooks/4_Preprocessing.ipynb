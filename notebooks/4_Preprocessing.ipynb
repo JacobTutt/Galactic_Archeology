{
 "cells": [
  {
   "cell_type": "markdown",
   "metadata": {},
   "source": [
    "# Preproccessing \n",
    "- This notebook preforms the following tasks\n",
    "- Extinction correction (de-reddening)\n",
    "- Red Giant Branch Filtering \n",
    "- Galpy Orbit parameter determination"
   ]
  },
  {
   "cell_type": "code",
   "execution_count": null,
   "metadata": {},
   "outputs": [],
   "source": [
    "# Allow imports from parent directory \n",
    "import os, sys\n",
    "if os.path.basename(os.getcwd()) == \"notebooks\":\n",
    "    os.chdir(\"..\")\n",
    "    sys.path.append(os.path.abspath(\".\")) \n",
    "    \n",
    "from Analysis import reddening_correction\n",
    "from Analysis import rgb_filter\n",
    "from Analysis import add_galpy_orbital_parameters"
   ]
  },
  {
   "cell_type": "markdown",
   "metadata": {
    "vscode": {
     "languageId": "plaintext"
    }
   },
   "source": [
    "## Extinction Correction\n",
    "\n",
    "- Applies Galactic extinction corrections to Gaia DR3 photometry using the Schlegel, Finkbeiner & Davis (1998) (SFD) dust map and extinction coefficients from Casagrande et al. (2021)."
   ]
  },
  {
   "cell_type": "code",
   "execution_count": 1,
   "metadata": {},
   "outputs": [],
   "source": [
    "raw_data_path_glob_clust = 'data/Allsky_Gaia_45599440.fits'\n",
    "raw_data_path_glob_clust_2 = 'data/Allsky_Gaia_42481846.fits'\n",
    "raw_data_path_stream = 'data/Allsky_Gaia_394217_rv.fits'\n"
   ]
  },
  {
   "cell_type": "code",
   "execution_count": 8,
   "metadata": {},
   "outputs": [
    {
     "name": "stdout",
     "output_type": "stream",
     "text": [
      "\u001b[0;31mSignature:\u001b[0m \u001b[0mreddening_correction\u001b[0m\u001b[0;34m(\u001b[0m\u001b[0mgaia_data_or_path\u001b[0m\u001b[0;34m,\u001b[0m \u001b[0mdustmaps_dir\u001b[0m\u001b[0;34m=\u001b[0m\u001b[0;34m'dustmaps/'\u001b[0m\u001b[0;34m)\u001b[0m\u001b[0;34m\u001b[0m\u001b[0;34m\u001b[0m\u001b[0m\n",
      "\u001b[0;31mDocstring:\u001b[0m\n",
      "Applies Galactic extinction corrections to Gaia DR3 photometry using the \n",
      "Schlegel, Finkbeiner & Davis (1998) (SFD) dust map and extinction coefficients \n",
      "from Casagrande et al. (2021).\n",
      "\n",
      "The function adds new extinction-corrected columns to the dataset:\n",
      "    - `dered_G`: Extinction-corrected G-band magnitude.\n",
      "    - `dered_BP`: Extinction-corrected BP-band magnitude.\n",
      "    - `dered_RP`: Extinction-corrected RP-band magnitude.\n",
      "    - `dered_BP_RP`: Extinction-corrected BP-RP color index.\n",
      "    - `M_G`: Absolute magnitude in the G-band, calculated using the extinction-corrected G-band magnitude\n",
      "             and the Bailer-Jones median photogeometric distance (`r_med_photogeo`).\n",
      "\n",
      "Parameters:\n",
      "    gaia_data_or_path (str or pd.DataFrame): Either a DataFrame containing Gaia photometric \n",
      "                                             and positional data or a file path to a FITS file.\n",
      "    dustmaps_dir (str, optional): Directory where dustmaps are stored.\n",
      "\n",
      "Returns:\n",
      "    None or pd.DataFrame: If a FITS file is provided, writes the corrected data to a new FITS file.\n",
      "                          If a DataFrame is provided, returns the corrected DataFrame.\n",
      "\n",
      "Raises:\n",
      "    ValueError: If required columns are missing from the input data.\n",
      "\u001b[0;31mFile:\u001b[0m      ~/Desktop/MPhil_DIS/Gal_Arc/Coursework_GA/Analysis/GA_analysis.py\n",
      "\u001b[0;31mType:\u001b[0m      function"
     ]
    }
   ],
   "source": [
    "?reddening_correction"
   ]
  },
  {
   "cell_type": "markdown",
   "metadata": {},
   "source": [
    "### Higher Proper Motion Cut (<12)"
   ]
  },
  {
   "cell_type": "code",
   "execution_count": 5,
   "metadata": {},
   "outputs": [
    {
     "name": "stderr",
     "output_type": "stream",
     "text": [
      "2025-03-17 22:25:16,570 - INFO - Converting to a Pandas Dataframe...\n",
      "2025-03-17 22:29:57,987 - INFO - Applying extinction correction...\n",
      "2025-03-17 22:30:10,277 - INFO - Converting back to FITS format...\n",
      "2025-03-17 22:31:06,200 - INFO - Saving to new file...\n",
      "2025-03-17 22:45:37,190 - INFO - Extinction-corrected FITS file saved as: data/Allsky_Gaia_45599440_extinction_corrected.fits\n"
     ]
    }
   ],
   "source": [
    "reddening_correction(raw_data_path_glob_clust, dustmaps_dir='dustmaps/')"
   ]
  },
  {
   "cell_type": "markdown",
   "metadata": {},
   "source": [
    "### Lower Proper Motion Cut (<4)"
   ]
  },
  {
   "cell_type": "code",
   "execution_count": 3,
   "metadata": {},
   "outputs": [
    {
     "name": "stderr",
     "output_type": "stream",
     "text": [
      "2025-03-18 17:15:24,630 - INFO - Converting to a Pandas Dataframe...\n",
      "2025-03-18 17:15:43,025 - INFO - Applying extinction correction...\n",
      "2025-03-18 17:15:54,539 - INFO - Converting back to FITS format...\n",
      "2025-03-18 17:16:24,162 - INFO - Saving to new file...\n",
      "2025-03-18 17:17:40,680 - INFO - Extinction-corrected FITS file saved as: data/Allsky_Gaia_42481846_extinction_corrected.fits\n"
     ]
    }
   ],
   "source": [
    "reddening_correction(raw_data_path_glob_clust_2, dustmaps_dir='dustmaps/')"
   ]
  },
  {
   "cell_type": "markdown",
   "metadata": {},
   "source": [
    "### Lower Proper Motion Cut And Contains Radial Velocity \n",
    "- Used for stellar stream analysis as can calculate orbital elements"
   ]
  },
  {
   "cell_type": "code",
   "execution_count": 8,
   "metadata": {},
   "outputs": [
    {
     "name": "stderr",
     "output_type": "stream",
     "text": [
      "2025-03-18 13:25:06,104 - INFO - Converting to a Pandas Dataframe...\n",
      "2025-03-18 13:25:06,278 - INFO - Applying extinction correction...\n",
      "2025-03-18 13:25:06,833 - INFO - Converting back to FITS format...\n",
      "2025-03-18 13:25:06,903 - INFO - Saving to new file...\n",
      "2025-03-18 13:25:07,170 - INFO - Extinction-corrected FITS file saved as: data/Allsky_Gaia_394217_rv_extinction_corrected.fits\n"
     ]
    }
   ],
   "source": [
    "reddening_correction(raw_data_path_stream, dustmaps_dir='dustmaps/')"
   ]
  },
  {
   "cell_type": "markdown",
   "metadata": {},
   "source": [
    "## Red Giant Branch Selection\n",
    "\n",
    "Filtering is applied to increase the fraction of red giant stars, enhancing the halo population as:\n",
    "- **Bright tracers** of old stellar populations, needed in the study of **globular clusters** and **Milky Way substructures**.\n",
    "- **Observable at large distances**, thus able to detect faint halo features.\n",
    "- **Key indicators** of tidal streams and accreted structures, helping reconstruct the Milky Way’s formation history.\n",
    "\n",
    "### **Filters Applied**\n",
    "The filters are justified within notebooks 1-3, and are as follows:\n",
    "\n",
    "#### **In Gaia Query**\n",
    "\n",
    "| Parameter                 | Condition Applied |\n",
    "|---------------------------|------------------|\n",
    "| **Photometric Magnitude (G-band)** | `10 ≤ G ≤ 20.5` (Filter for brighter - red giant stars)|\n",
    "| **Parallax** | `-0.1 ≤ parallax ≤ 0.1` (Selecting distant stars, minimizing foreground contamination) |\n",
    "| **RUWE (Renormalized Unit Weight Error)** | `ruwe < 1.4` (Ensuring good astrometric solutions) |\n",
    "| **Proper Motion Constraint** | `(pmra² + pmdec²) < 144 or 16` (Selecting stars with relatively small proper motion, likely halo members) |\n",
    "| **Photogeometric Distance** | `r_med_photogeo IS NOT NULL` (Ensuring a valid distance estimate from Bailer-Jones) |\n",
    "| **Random Index Range** | `0 ≤ random_index ≤ 700000000` (Random subset selection for managable data size) |\n",
    "\n",
    "#### **Additional Cuts (RGB Filter)**\n",
    "| Parameter                | Proposed Value |\n",
    "|--------------------------|---------------|\n",
    "| **BP-RP Color Cut (Lower)** | `BP-RP ≥ 0.8` (Selecting redder stars, excluding very blue main-sequence stars) |\n",
    "| **G Magnitude Limit** | `G ≤ 18` (Removig dim stars, main sequence and non red giants) |\n",
    "| **Absolute Magnitude Cut** | `M_G ≤ 5` (Selecting evolved stars, avoiding faint dwarfs) |\n",
    "| **Galactic Latitude, b** | `Abs(b) > 10` (Removing halo saturating population)| \n",
    "\n",
    "This filtering strategy refines the sample to increase the likelihood of selecting **red giant stars** and identifying key **halo structures**.\n",
    "\n"
   ]
  },
  {
   "cell_type": "code",
   "execution_count": 2,
   "metadata": {},
   "outputs": [],
   "source": [
    "extinction_corrected_data_path_glob_clust = 'data/Allsky_Gaia_45599440_extinction_corrected.fits'\n",
    "extinction_corrected_data_path_glob_clust_2 = 'data/Allsky_Gaia_42481846_extinction_corrected.fits'\n",
    "extinction_corrected_data_path_stream = 'data/Allsky_Gaia_394217_rv_extinction_corrected.fits'"
   ]
  },
  {
   "cell_type": "markdown",
   "metadata": {},
   "source": [
    "## Higher PM Data"
   ]
  },
  {
   "cell_type": "code",
   "execution_count": 5,
   "metadata": {},
   "outputs": [
    {
     "name": "stderr",
     "output_type": "stream",
     "text": [
      "2025-03-30 17:30:34,648 - INFO - Loaded 45599440 from FITS File ...\n",
      "2025-03-30 17:30:34,648 - INFO - Converting to a Pandas Dataframe...\n"
     ]
    },
    {
     "name": "stderr",
     "output_type": "stream",
     "text": [
      "2025-03-30 17:38:01,518 - INFO - Applying RGB filter...\n",
      "2025-03-30 17:38:02,494 - INFO - \n",
      "Total stars before filtering: 45599440\n",
      "Stars passing Galactic latitude cut (|b| > 10°): 13920769 (30.53%)Stars passing BP-RP color filter: 27868223 (61.12%)\n",
      "Stars passing apparent magnitude filter: 25708640 (56.38%)\n",
      "Stars passing absolute magnitude filter: 33741017 (73.99%)\n",
      "Stars passing all filters: 2452277 (5.38%)\n",
      "Halo RGB filtered FITS file saved as: data/Allsky_Gaia_45599440_extinction_corrected_filtered.fits\n",
      "2025-03-30 17:38:02,494 - INFO - Saving filtered data to new FITS file...\n",
      "2025-03-30 17:38:04,887 - INFO - Halo RGB filtered FITS file saved as: data/Allsky_Gaia_45599440_extinction_corrected_filtered.fits\n"
     ]
    }
   ],
   "source": [
    "rgb_filter(extinction_corrected_data_path_glob_clust, min_bp_rp=0.8, max_app_mag=18)"
   ]
  },
  {
   "cell_type": "markdown",
   "metadata": {},
   "source": [
    "## Lower PM Data"
   ]
  },
  {
   "cell_type": "code",
   "execution_count": 4,
   "metadata": {},
   "outputs": [
    {
     "name": "stderr",
     "output_type": "stream",
     "text": [
      "2025-03-30 17:22:19,302 - INFO - Loaded 42481846 from FITS File ...\n",
      "2025-03-30 17:22:19,303 - INFO - Converting to a Pandas Dataframe...\n"
     ]
    },
    {
     "name": "stderr",
     "output_type": "stream",
     "text": [
      "2025-03-30 17:28:00,483 - INFO - Applying RGB filter...\n",
      "2025-03-30 17:28:01,493 - INFO - \n",
      "Total stars before filtering: 42481846\n",
      "Stars passing Galactic latitude cut (|b| > 10°): 16227516 (38.20%)Stars passing BP-RP color filter: 23593053 (55.54%)\n",
      "Stars passing apparent magnitude filter: 23239142 (54.70%)\n",
      "Stars passing absolute magnitude filter: 29320489 (69.02%)\n",
      "Stars passing all filters: 3105304 (7.31%)\n",
      "Halo RGB filtered FITS file saved as: data/Allsky_Gaia_42481846_extinction_corrected_filtered.fits\n",
      "2025-03-30 17:28:01,493 - INFO - Saving filtered data to new FITS file...\n",
      "2025-03-30 17:28:04,894 - INFO - Halo RGB filtered FITS file saved as: data/Allsky_Gaia_42481846_extinction_corrected_filtered.fits\n"
     ]
    }
   ],
   "source": [
    "rgb_filter(extinction_corrected_data_path_glob_clust_2, min_bp_rp=0.8, max_app_mag=18)"
   ]
  },
  {
   "cell_type": "markdown",
   "metadata": {},
   "source": [
    "## Radial Velocity Data"
   ]
  },
  {
   "cell_type": "code",
   "execution_count": null,
   "metadata": {},
   "outputs": [
    {
     "name": "stderr",
     "output_type": "stream",
     "text": [
      "2025-03-18 13:25:46,007 - INFO - Loaded 394217 from FITS File ...\n",
      "2025-03-18 13:25:46,007 - INFO - Converting to a Pandas Dataframe...\n",
      "2025-03-18 13:25:46,268 - INFO - Applying RGB filter...\n",
      "2025-03-18 13:25:46,361 - INFO - \n",
      "Total stars before filtering: 394217\n",
      "Stars passing BP-RP color filter: 301642 (76.52%)\n",
      "Stars passing apparent magnitude filter: 394217 (100.00%)\n",
      "Stars passing absolute magnitude filter: 394216 (100.00%)\n",
      "Stars passing all filters: 301642 (76.52%)\n",
      "Halo RGB filtered FITS file saved as: data/Allsky_Gaia_394217_rv_extinction_corrected_filtered.fits\n",
      "2025-03-18 13:25:46,362 - INFO - Saving filtered data to new FITS file...\n",
      "2025-03-18 13:25:46,668 - INFO - Halo RGB filtered FITS file saved as: data/Allsky_Gaia_394217_rv_extinction_corrected_filtered.fits\n"
     ]
    }
   ],
   "source": [
    "rgb_filter(extinction_corrected_data_path_stream, min_bp_rp=0.8, max_app_mag=18)"
   ]
  },
  {
   "cell_type": "markdown",
   "metadata": {},
   "source": [
    "## Add Orbital Parameters for Tidal Stream Information\n",
    "\n",
    "This adds **Galpy-derived orbital parameters** to a dataset of Gaia stars. \n",
    "\n",
    "### **Functionality**\n",
    "3. **Computes orbital parameters** using `galpy` and `SkyCoord`:\n",
    "   - **Energy (`E`)** – The total energy of the star in the Milky Way potential.\n",
    "   - **Z-component of Angular Momentum (`Lz`)** – Measures rotation about the Galactic center.\n",
    "   - **Galactocentric Radius (`R_gal`)** – The current radial position of the star.\n",
    "   - **Vertical Action (`Jz`)** – Describes oscillations above and below the Galactic plane.\n",
    "\n",
    "---\n",
    "\n",
    "### **Reasoning**\n",
    "- **Tidal streams share (`E`, `Lz`, `Jz`)** – Stars from the same stream have nearly identical orbital properties.  \n",
    "- **Energy (`E`) is conserved** – Helps separate streams from field stars.  \n",
    "- **Angular momentum (`Lz`, `Jz`) clusters streams** – Groups stars with common origins.  \n",
    "- **Galactocentric radius (`R_gal`) refines selection** – Ensures clustering aligns with stream positions.  \n"
   ]
  },
  {
   "cell_type": "code",
   "execution_count": 11,
   "metadata": {},
   "outputs": [],
   "source": [
    "rgb_data_path_stream = 'data/Allsky_Gaia_394217_rv_extinction_corrected_filtered.fits'"
   ]
  },
  {
   "cell_type": "code",
   "execution_count": 6,
   "metadata": {},
   "outputs": [
    {
     "name": "stdout",
     "output_type": "stream",
     "text": [
      "\u001b[0;31mSignature:\u001b[0m \u001b[0madd_galpy_orbital_parameters\u001b[0m\u001b[0;34m(\u001b[0m\u001b[0mgaia_data_or_path\u001b[0m\u001b[0;34m)\u001b[0m\u001b[0;34m\u001b[0m\u001b[0;34m\u001b[0m\u001b[0m\n",
      "\u001b[0;31mDocstring:\u001b[0m\n",
      "Computes and adds orbital parameters using galpy for Gaia stars using SkyCoord.\n",
      "Accepts either a FITS file or a Pandas DataFrame.\n",
      "\n",
      "Parameters:\n",
      "    gaia_data_or_path (str or pd.DataFrame): Either a DataFrame containing Gaia data or a file path to a FITS file.\n",
      "\n",
      "Returns:\n",
      "    None or pd.DataFrame:\n",
      "        - If a FITS file is provided, saves the updated data to a new FITS file with `_galpy.fits` suffix.\n",
      "        - If a DataFrame is provided, returns the modified DataFrame.\n",
      "\n",
      "Raises:\n",
      "    ValueError: If required columns are missing from the input data.\n",
      "\u001b[0;31mFile:\u001b[0m      ~/Desktop/MPhil_DIS/Gal_Arc/Coursework_GA/Analysis/GA_analysis.py\n",
      "\u001b[0;31mType:\u001b[0m      function"
     ]
    }
   ],
   "source": [
    "add_galpy_orbital_parameters?"
   ]
  },
  {
   "cell_type": "code",
   "execution_count": 12,
   "metadata": {},
   "outputs": [
    {
     "name": "stderr",
     "output_type": "stream",
     "text": [
      "Processing stars:   0%|          | 27/301642 [00:00<37:38, 133.54star/s]"
     ]
    },
    {
     "name": "stdout",
     "output_type": "stream",
     "text": [
      "galpyWarning: Supplied SkyCoord does not contain (galcen_distance, z_sun, galcen_v_sun) and these were not explicitly set in the Orbit initialization using the keywords (ro, zo, vo, solarmotion); these are required for Orbit initialization; proceeding with default values\n"
     ]
    },
    {
     "name": "stderr",
     "output_type": "stream",
     "text": [
      "Processing stars: 100%|██████████| 301642/301642 [22:05<00:00, 227.56star/s]\n"
     ]
    },
    {
     "name": "stdout",
     "output_type": "stream",
     "text": [
      "Galpy orbital parameters added. Updated FITS file saved as: data/Allsky_Gaia_394217_rv_extinction_corrected_filtered_galpy.fits\n"
     ]
    }
   ],
   "source": [
    "add_galpy_orbital_parameters(rgb_data_path_stream)"
   ]
  }
 ],
 "metadata": {
  "kernelspec": {
   "display_name": "Python (GA_CW_Venv)",
   "language": "python",
   "name": "ga_cw_venv_2"
  },
  "language_info": {
   "codemirror_mode": {
    "name": "ipython",
    "version": 3
   },
   "file_extension": ".py",
   "mimetype": "text/x-python",
   "name": "python",
   "nbconvert_exporter": "python",
   "pygments_lexer": "ipython3",
   "version": "3.10.9"
  }
 },
 "nbformat": 4,
 "nbformat_minor": 2
}
